{
 "metadata": {
  "language_info": {
   "codemirror_mode": {
    "name": "ipython",
    "version": 3
   },
   "file_extension": ".py",
   "mimetype": "text/x-python",
   "name": "python",
   "nbconvert_exporter": "python",
   "pygments_lexer": "ipython3",
   "version": "3.7.4-final"
  },
  "orig_nbformat": 2,
  "kernelspec": {
   "name": "python37464bit20ac43409ce34ccda172c95d4c8566ca",
   "display_name": "Python 3.7.4 64-bit"
  }
 },
 "nbformat": 4,
 "nbformat_minor": 2,
 "cells": [
  {
   "cell_type": "code",
   "execution_count": 4,
   "metadata": {},
   "outputs": [],
   "source": [
    "from selenium import webdriver\n",
    "from selenium.webdriver.chrome.options import Options\n",
    "\n",
    "DRIVER_PATH = r\"C:\\Users\\mathi\\Desktop\\Progra\\appli\\chromedriver.exe\"\n"
   ]
  },
  {
   "cell_type": "code",
   "execution_count": 16,
   "metadata": {
    "tags": []
   },
   "outputs": [],
   "source": [
    "\n",
    "\n",
    "options = Options()\n",
    "#options.headless = True\n",
    "options.add_argument(\"--window-size=1500,700\")\n",
    "\n",
    "driver = webdriver.Chrome(options=options, executable_path=DRIVER_PATH)\n",
    "driver.get(\"https://www.tag-walk.com/en/look/search?designer=chanel&page=1\")\n",
    "\n",
    "selections = driver.find_elements_by_xpath(\"//span[@class='select2-selection__rendered']\")\n",
    "for selection in selections:\n",
    "    if selection.text == \"CHANEL\":\n",
    "        selection.click()\n",
    "table = driver.find_element_by_xpath(\"//ul[@class='select2-results__options']\")\n",
    "brands = table.find_elements_by_xpath(\"//li[@class='select2-results__option']\")\n",
    "brands = [(brand.text, brand.get_attribute(\"data-select2-id\")[29:]) for brand in brands]\n",
    "\n"
   ]
  },
  {
   "cell_type": "code",
   "execution_count": 17,
   "metadata": {},
   "outputs": [],
   "source": [
    "with open(\"brands.txt\", \"w\") as f:\n",
    "    f.write(str(brands))\n"
   ]
  },
  {
   "cell_type": "code",
   "execution_count": 18,
   "metadata": {},
   "outputs": [
    {
     "output_type": "execute_result",
     "data": {
      "text/plain": [
       "856"
      ]
     },
     "metadata": {},
     "execution_count": 18
    }
   ],
   "source": [
    "len(brands)"
   ]
  },
  {
   "cell_type": "code",
   "execution_count": null,
   "metadata": {},
   "outputs": [],
   "source": []
  }
 ]
}